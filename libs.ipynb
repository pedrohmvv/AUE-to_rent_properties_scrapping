{
 "cells": [
  {
   "cell_type": "markdown",
   "metadata": {},
   "source": [
    "## **Principais Libs do Python para ETL**\n",
    "\n",
    "Nesse notebook, serão apresentados os principais pacotes do Python, que usamos para desenvolver uma pipeline ETL (Extração, Carga e Transformação).\n",
    "\n",
    "Elas são:\n",
    "* ``requests``\n",
    "* ``BeautifulSoup`` (bs4)    \n",
    "* ``pandas``\n",
    "\n",
    "E também, uma biblioteca de visualização para análise exploratória, que fazemos antes de desenvolver a pipeline, para entender como devemos transformar os dados.\n",
    "\n",
    "Ela é: ``matplotlib``\n"
   ]
  },
  {
   "cell_type": "markdown",
   "metadata": {},
   "source": [
    "### **Preparação de ambiente**\n",
    "\n",
    "Aqui, vamos ler os dados obtidos a partir do webscrapping, com o próprio ``pandas``,\n",
    "\n",
    "A função que vamos utilizar nesse caso, será a `read_csv`. Ela é usada para ler arquivos em texto em que os dados são separados por alguma pontuação.\n",
    "Geralmente, a pontuação utilizada é a *,*. Isso que origina o nome do arquivo: **_Comma Separeted Values_**."
   ]
  },
  {
   "cell_type": "markdown",
   "metadata": {},
   "source": [
    "#### **Descrição dos dados**"
   ]
  },
  {
   "cell_type": "code",
   "execution_count": 3,
   "metadata": {},
   "outputs": [
    {
     "data": {
      "text/plain": [
       "'|    | Details                                         | Price           | Location                                                         |   Bedrooms |   Bathrooms | Area     | Link                                                                                                                                     | Contact           |\\n|---:|:------------------------------------------------|:----------------|:-----------------------------------------------------------------|-----------:|------------:|:---------|:-----------------------------------------------------------------------------------------------------------------------------------------|:------------------|\\n|  0 | Chiller Free | Stunning View | Luxury Lifestyle | 95,000 AED/year | One Park Avenue, Sobha Hartland, Mohammed Bin Rashid City, Dubai |          1 |           2 | 739 sqft | https://www.propertyfinder.ae/en/plp/rent/apartment-for-rent-dubai-mohammed-bin-rashid-city-sobha-hartland-one-park-avenue-13023928.html | tel:+971565088993 |'"
      ]
     },
     "execution_count": 3,
     "metadata": {},
     "output_type": "execute_result"
    }
   ],
   "source": [
    "from pandas import read_csv\n",
    "\n",
    "df = read_csv('src/data/data.csv')\n",
    "\n",
    "df.head().to_markdown()"
   ]
  },
  {
   "cell_type": "markdown",
   "metadata": {},
   "source": [
    "### **Acessando Colunas**"
   ]
  },
  {
   "cell_type": "code",
   "execution_count": null,
   "metadata": {},
   "outputs": [],
   "source": []
  },
  {
   "cell_type": "markdown",
   "metadata": {},
   "source": [
    "### **Acessando colunas**"
   ]
  },
  {
   "cell_type": "code",
   "execution_count": null,
   "metadata": {},
   "outputs": [],
   "source": []
  },
  {
   "cell_type": "markdown",
   "metadata": {},
   "source": [
    "### **Manipulação de Dados**"
   ]
  },
  {
   "cell_type": "code",
   "execution_count": null,
   "metadata": {},
   "outputs": [],
   "source": []
  },
  {
   "cell_type": "markdown",
   "metadata": {},
   "source": [
    "### **Conversão de Dados**"
   ]
  },
  {
   "cell_type": "markdown",
   "metadata": {},
   "source": []
  },
  {
   "cell_type": "markdown",
   "metadata": {},
   "source": [
    "### **Filtragem de Dados**"
   ]
  },
  {
   "cell_type": "markdown",
   "metadata": {},
   "source": []
  },
  {
   "cell_type": "markdown",
   "metadata": {},
   "source": [
    "### **Tratamento de Dados**"
   ]
  },
  {
   "cell_type": "markdown",
   "metadata": {},
   "source": []
  },
  {
   "cell_type": "markdown",
   "metadata": {},
   "source": [
    "### **Cálculos Numéricos**"
   ]
  },
  {
   "cell_type": "code",
   "execution_count": null,
   "metadata": {},
   "outputs": [],
   "source": []
  },
  {
   "cell_type": "markdown",
   "metadata": {},
   "source": [
    "### **Agrupamento**"
   ]
  },
  {
   "cell_type": "markdown",
   "metadata": {},
   "source": []
  }
 ],
 "metadata": {
  "kernelspec": {
   "display_name": "Python 3",
   "language": "python",
   "name": "python3"
  },
  "language_info": {
   "codemirror_mode": {
    "name": "ipython",
    "version": 3
   },
   "file_extension": ".py",
   "mimetype": "text/x-python",
   "name": "python",
   "nbconvert_exporter": "python",
   "pygments_lexer": "ipython3",
   "version": "3.11.9"
  }
 },
 "nbformat": 4,
 "nbformat_minor": 2
}
