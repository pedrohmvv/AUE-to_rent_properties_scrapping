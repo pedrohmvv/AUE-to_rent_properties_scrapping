{
 "cells": [
  {
   "cell_type": "markdown",
   "metadata": {},
   "source": [
    "## **Principais Libs do Python para ETL**\n",
    "\n",
    "Nesse notebook, serão apresentados os principais pacotes do Python, que usamos para desenvolver uma pipeline ETL (Extração, Carga e Transformação).\n",
    "\n",
    "Elas são:\n",
    "* ``requests``\n",
    "* ``BeautifulSoup`` (bs4)    \n",
    "* ``pandas``\n",
    "\n",
    "E também, uma biblioteca de visualização para análise exploratória, que fazemos antes de desenvolver a pipeline, para entender como devemos transformar os dados.\n",
    "\n",
    "Ela é: ``matplotlib``\n"
   ]
  },
  {
   "cell_type": "markdown",
   "metadata": {},
   "source": [
    "### **Preparação de ambiente**\n",
    "\n",
    "Aqui, vamos ler os dados obtidos a partir do webscrapping, com o próprio ``pandas``,\n",
    "\n",
    "A função que vamos utilizar nesse caso, será a `read_csv`. Ela é usada para ler arquivos em texto em que os dados são separados por alguma pontuação.\n",
    "Geralmente, a pontuação utilizada é a *,*. Isso que origina o nome do arquivo: **_Comma Separeted Values_**."
   ]
  },
  {
   "cell_type": "markdown",
   "metadata": {},
   "source": [
    "#### **Descrição dos dados**"
   ]
  },
  {
   "cell_type": "code",
   "execution_count": 22,
   "metadata": {},
   "outputs": [
    {
     "data": {
      "text/html": [
       "<div>\n",
       "<style scoped>\n",
       "    .dataframe tbody tr th:only-of-type {\n",
       "        vertical-align: middle;\n",
       "    }\n",
       "\n",
       "    .dataframe tbody tr th {\n",
       "        vertical-align: top;\n",
       "    }\n",
       "\n",
       "    .dataframe thead th {\n",
       "        text-align: right;\n",
       "    }\n",
       "</style>\n",
       "<table border=\"1\" class=\"dataframe\">\n",
       "  <thead>\n",
       "    <tr style=\"text-align: right;\">\n",
       "      <th></th>\n",
       "      <th>Details</th>\n",
       "      <th>Price</th>\n",
       "      <th>Location</th>\n",
       "      <th>Bedrooms</th>\n",
       "      <th>Bathrooms</th>\n",
       "      <th>Area</th>\n",
       "      <th>Link</th>\n",
       "      <th>Contact</th>\n",
       "      <th>Listing Time</th>\n",
       "    </tr>\n",
       "  </thead>\n",
       "  <tbody>\n",
       "    <tr>\n",
       "      <th>0</th>\n",
       "      <td>Stunning Burj View | Connected to Dubai Mall</td>\n",
       "      <td>325,000 AED/year</td>\n",
       "      <td>Downtown Views, Zabeel 2, Zabeel, Dubai</td>\n",
       "      <td>3</td>\n",
       "      <td>3</td>\n",
       "      <td>1,567 sqft</td>\n",
       "      <td>https://www.propertyfinder.ae/en/plp/rent/apar...</td>\n",
       "      <td>tel:+971526832869</td>\n",
       "      <td>Listed 12 days ago</td>\n",
       "    </tr>\n",
       "    <tr>\n",
       "      <th>1</th>\n",
       "      <td>Stunning Burj View | Connected to Dubai Mall</td>\n",
       "      <td>325,000 AED/year</td>\n",
       "      <td>Downtown Views, Zabeel 2, Zabeel, Dubai</td>\n",
       "      <td>3</td>\n",
       "      <td>3</td>\n",
       "      <td>1,567 sqft</td>\n",
       "      <td>https://www.propertyfinder.ae/en/plp/rent/apar...</td>\n",
       "      <td>tel:+971526832869</td>\n",
       "      <td>Listed 12 days ago</td>\n",
       "    </tr>\n",
       "    <tr>\n",
       "      <th>2</th>\n",
       "      <td>Community | Private Garden |  Well Maintained</td>\n",
       "      <td>85,000 AED/year</td>\n",
       "      <td>Mimosa, Damac Hills 2, Dubai</td>\n",
       "      <td>3</td>\n",
       "      <td>3</td>\n",
       "      <td>1,208 sqft</td>\n",
       "      <td>https://www.propertyfinder.ae/en/plp/rent/town...</td>\n",
       "      <td>tel:+971565029498</td>\n",
       "      <td>Listed 7 days ago</td>\n",
       "    </tr>\n",
       "    <tr>\n",
       "      <th>3</th>\n",
       "      <td>Type B 3BR+M Townhouse Close to Pool and Park</td>\n",
       "      <td>285,000 AED/year</td>\n",
       "      <td>Murooj Al Furjan, Al Furjan, Dubai</td>\n",
       "      <td>3</td>\n",
       "      <td>4</td>\n",
       "      <td>2,561 sqft</td>\n",
       "      <td>https://www.propertyfinder.ae/en/plp/rent/town...</td>\n",
       "      <td>tel:+971505926588</td>\n",
       "      <td>Listed 7 days ago</td>\n",
       "    </tr>\n",
       "    <tr>\n",
       "      <th>4</th>\n",
       "      <td>No Chiller Fee | Luxury Apartment | Stunning View</td>\n",
       "      <td>195,000 AED/year</td>\n",
       "      <td>Landmark Tower, Corniche Road, Abu Dhabi</td>\n",
       "      <td>3</td>\n",
       "      <td>4</td>\n",
       "      <td>2,700 sqft</td>\n",
       "      <td>https://www.propertyfinder.ae/en/plp/rent/apar...</td>\n",
       "      <td>tel:+971565098554</td>\n",
       "      <td>Listed 2 hours ago</td>\n",
       "    </tr>\n",
       "  </tbody>\n",
       "</table>\n",
       "</div>"
      ],
      "text/plain": [
       "                                             Details             Price  \\\n",
       "0       Stunning Burj View | Connected to Dubai Mall  325,000 AED/year   \n",
       "1       Stunning Burj View | Connected to Dubai Mall  325,000 AED/year   \n",
       "2      Community | Private Garden |  Well Maintained   85,000 AED/year   \n",
       "3      Type B 3BR+M Townhouse Close to Pool and Park  285,000 AED/year   \n",
       "4  No Chiller Fee | Luxury Apartment | Stunning View  195,000 AED/year   \n",
       "\n",
       "                                   Location  Bedrooms  Bathrooms        Area  \\\n",
       "0   Downtown Views, Zabeel 2, Zabeel, Dubai         3          3  1,567 sqft   \n",
       "1   Downtown Views, Zabeel 2, Zabeel, Dubai         3          3  1,567 sqft   \n",
       "2              Mimosa, Damac Hills 2, Dubai         3          3  1,208 sqft   \n",
       "3        Murooj Al Furjan, Al Furjan, Dubai         3          4  2,561 sqft   \n",
       "4  Landmark Tower, Corniche Road, Abu Dhabi         3          4  2,700 sqft   \n",
       "\n",
       "                                                Link            Contact  \\\n",
       "0  https://www.propertyfinder.ae/en/plp/rent/apar...  tel:+971526832869   \n",
       "1  https://www.propertyfinder.ae/en/plp/rent/apar...  tel:+971526832869   \n",
       "2  https://www.propertyfinder.ae/en/plp/rent/town...  tel:+971565029498   \n",
       "3  https://www.propertyfinder.ae/en/plp/rent/town...  tel:+971505926588   \n",
       "4  https://www.propertyfinder.ae/en/plp/rent/apar...  tel:+971565098554   \n",
       "\n",
       "         Listing Time  \n",
       "0  Listed 12 days ago  \n",
       "1  Listed 12 days ago  \n",
       "2   Listed 7 days ago  \n",
       "3   Listed 7 days ago  \n",
       "4  Listed 2 hours ago  "
      ]
     },
     "execution_count": 22,
     "metadata": {},
     "output_type": "execute_result"
    }
   ],
   "source": [
    "from pandas import read_csv\n",
    "\n",
    "df = read_csv('src/data/data.csv')\n",
    "\n",
    "df"
   ]
  },
  {
   "cell_type": "code",
   "execution_count": 16,
   "metadata": {},
   "outputs": [],
   "source": [
    "from requests import get\n",
    "from bs4 import BeautifulSoup\n",
    "\n",
    "rl = \"https://www.propertyfinder.ae/en/rent/properties-for-rent.html\"\n",
    "user_agent = \"Mozilla/5.0 (iPad; CPU OS 12_2 like Mac OS X) AppleWebKit/605.1.15 (KHTML, like Gecko) Mobile/15E148\"\n",
    "\n",
    "get(url=rl, headers={\"User-Agent\": user_agent})\n",
    "\n",
    "response = get(rl)\n",
    "html_soup = BeautifulSoup(response.text, 'html.parser')\n",
    "\n",
    "article = html_soup.find_all(\"article\", {\"data-testid\": \"property-card\"}) "
   ]
  },
  {
   "cell_type": "code",
   "execution_count": 17,
   "metadata": {},
   "outputs": [
    {
     "data": {
      "text/plain": [
       "[]"
      ]
     },
     "execution_count": 17,
     "metadata": {},
     "output_type": "execute_result"
    }
   ],
   "source": [
    "article"
   ]
  },
  {
   "cell_type": "code",
   "execution_count": 11,
   "metadata": {},
   "outputs": [
    {
     "ename": "IndexError",
     "evalue": "list index out of range",
     "output_type": "error",
     "traceback": [
      "\u001b[1;31m---------------------------------------------------------------------------\u001b[0m",
      "\u001b[1;31mIndexError\u001b[0m                                Traceback (most recent call last)",
      "Cell \u001b[1;32mIn[11], line 1\u001b[0m\n\u001b[1;32m----> 1\u001b[0m \u001b[43marticle\u001b[49m\u001b[43m[\u001b[49m\u001b[38;5;241;43m0\u001b[39;49m\u001b[43m]\u001b[49m\u001b[38;5;241m.\u001b[39mfind(\u001b[38;5;124m'\u001b[39m\u001b[38;5;124mp\u001b[39m\u001b[38;5;124m'\u001b[39m, {\u001b[38;5;124m'\u001b[39m\u001b[38;5;124mdata-testid\u001b[39m\u001b[38;5;124m'\u001b[39m:\u001b[38;5;124m\"\u001b[39m\u001b[38;5;124mproperty-card-price\u001b[39m\u001b[38;5;124m\"\u001b[39m})\n",
      "\u001b[1;31mIndexError\u001b[0m: list index out of range"
     ]
    }
   ],
   "source": [
    "article.find('p', {'data-testid':\"property-card-price\"})"
   ]
  },
  {
   "cell_type": "markdown",
   "metadata": {},
   "source": [
    "### **Acessando Colunas**"
   ]
  },
  {
   "cell_type": "code",
   "execution_count": null,
   "metadata": {},
   "outputs": [],
   "source": []
  },
  {
   "cell_type": "markdown",
   "metadata": {},
   "source": [
    "### **Acessando colunas**"
   ]
  },
  {
   "cell_type": "code",
   "execution_count": null,
   "metadata": {},
   "outputs": [],
   "source": []
  },
  {
   "cell_type": "markdown",
   "metadata": {},
   "source": [
    "### **Manipulação de Dados**"
   ]
  },
  {
   "cell_type": "code",
   "execution_count": null,
   "metadata": {},
   "outputs": [],
   "source": []
  },
  {
   "cell_type": "markdown",
   "metadata": {},
   "source": [
    "### **Conversão de Dados**"
   ]
  },
  {
   "cell_type": "markdown",
   "metadata": {},
   "source": []
  },
  {
   "cell_type": "markdown",
   "metadata": {},
   "source": [
    "### **Filtragem de Dados**"
   ]
  },
  {
   "cell_type": "markdown",
   "metadata": {},
   "source": []
  },
  {
   "cell_type": "markdown",
   "metadata": {},
   "source": [
    "### **Tratamento de Dados**"
   ]
  },
  {
   "cell_type": "markdown",
   "metadata": {},
   "source": []
  },
  {
   "cell_type": "markdown",
   "metadata": {},
   "source": [
    "### **Cálculos Numéricos**"
   ]
  },
  {
   "cell_type": "code",
   "execution_count": null,
   "metadata": {},
   "outputs": [],
   "source": []
  },
  {
   "cell_type": "markdown",
   "metadata": {},
   "source": [
    "### **Agrupamento**"
   ]
  },
  {
   "cell_type": "markdown",
   "metadata": {},
   "source": []
  }
 ],
 "metadata": {
  "kernelspec": {
   "display_name": "Python 3",
   "language": "python",
   "name": "python3"
  },
  "language_info": {
   "codemirror_mode": {
    "name": "ipython",
    "version": 3
   },
   "file_extension": ".py",
   "mimetype": "text/x-python",
   "name": "python",
   "nbconvert_exporter": "python",
   "pygments_lexer": "ipython3",
   "version": "3.11.9"
  }
 },
 "nbformat": 4,
 "nbformat_minor": 2
}
